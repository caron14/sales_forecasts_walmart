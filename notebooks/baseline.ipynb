{
 "cells": [
  {
   "cell_type": "code",
   "execution_count": 1,
   "metadata": {},
   "outputs": [
    {
     "name": "stderr",
     "output_type": "stream",
     "text": [
      "/Users/sho/git-portfolio/sales_forecast_walmart/venv/lib/python3.9/site-packages/statsforecast/core.py:25: TqdmWarning: IProgress not found. Please update jupyter and ipywidgets. See https://ipywidgets.readthedocs.io/en/stable/user_install.html\n",
      "  from tqdm.autonotebook import tqdm\n"
     ]
    }
   ],
   "source": [
    "from datetime import datetime\n",
    "import os\n",
    "import itertools\n",
    "from pathlib import Path\n",
    "from typing import List, Tuple\n",
    "\n",
    "import matplotlib.pyplot as plt\n",
    "import numpy as np\n",
    "import pandas as pd\n",
    "import polars as pl\n",
    "from sklearn.preprocessing import OneHotEncoder\n",
    "import torch\n",
    "from tqdm import tqdm\n",
    "\n",
    "from darts import TimeSeries\n",
    "from darts.dataprocessing import Pipeline\n",
    "from darts.dataprocessing.transformers import StaticCovariatesTransformer\n",
    "from darts.dataprocessing.transformers import MissingValuesFiller\n",
    "from darts.dataprocessing.transformers import InvertibleMapper\n",
    "from darts.dataprocessing.transformers.scaler import Scaler\n",
    "from darts.models import MovingAverageFilter\n",
    "from darts.models import TiDEModel\n",
    "from darts.metrics import mae, mse\n",
    "from pytorch_lightning.callbacks.early_stopping import EarlyStopping\n",
    "\n",
    "%matplotlib inline"
   ]
  },
  {
   "cell_type": "code",
   "execution_count": 2,
   "metadata": {},
   "outputs": [],
   "source": [
    "class Config:\n",
    "    seed = 2023\n",
    "    timestamp = datetime.now().strftime('%Y%m%d%H%M%S')\n",
    "    curr_dirpath = Path(os.getcwd())\n",
    "    repo_dirpath = curr_dirpath / '../'\n",
    "    dataset_dirpath = repo_dirpath / 'input'\n",
    "    ts_identifier_col = 'store_item'\n",
    "    ts_col = 'date'\n",
    "    target_col = 'sales'\n",
    "\n",
    "config = Config()"
   ]
  },
  {
   "cell_type": "code",
   "execution_count": 4,
   "metadata": {},
   "outputs": [
    {
     "name": "stdout",
     "output_type": "stream",
     "text": [
      "(3000888, 6)\n"
     ]
    },
    {
     "data": {
      "text/html": [
       "<div>\n",
       "<style scoped>\n",
       "    .dataframe tbody tr th:only-of-type {\n",
       "        vertical-align: middle;\n",
       "    }\n",
       "\n",
       "    .dataframe tbody tr th {\n",
       "        vertical-align: top;\n",
       "    }\n",
       "\n",
       "    .dataframe thead th {\n",
       "        text-align: right;\n",
       "    }\n",
       "</style>\n",
       "<table border=\"1\" class=\"dataframe\">\n",
       "  <thead>\n",
       "    <tr style=\"text-align: right;\">\n",
       "      <th></th>\n",
       "      <th>id</th>\n",
       "      <th>date</th>\n",
       "      <th>store_nbr</th>\n",
       "      <th>family</th>\n",
       "      <th>sales</th>\n",
       "      <th>onpromotion</th>\n",
       "    </tr>\n",
       "  </thead>\n",
       "  <tbody>\n",
       "    <tr>\n",
       "      <th>0</th>\n",
       "      <td>0</td>\n",
       "      <td>2013-01-01</td>\n",
       "      <td>1</td>\n",
       "      <td>AUTOMOTIVE</td>\n",
       "      <td>0.0</td>\n",
       "      <td>0</td>\n",
       "    </tr>\n",
       "    <tr>\n",
       "      <th>1</th>\n",
       "      <td>1</td>\n",
       "      <td>2013-01-01</td>\n",
       "      <td>1</td>\n",
       "      <td>BABY CARE</td>\n",
       "      <td>0.0</td>\n",
       "      <td>0</td>\n",
       "    </tr>\n",
       "    <tr>\n",
       "      <th>2</th>\n",
       "      <td>2</td>\n",
       "      <td>2013-01-01</td>\n",
       "      <td>1</td>\n",
       "      <td>BEAUTY</td>\n",
       "      <td>0.0</td>\n",
       "      <td>0</td>\n",
       "    </tr>\n",
       "    <tr>\n",
       "      <th>3</th>\n",
       "      <td>3</td>\n",
       "      <td>2013-01-01</td>\n",
       "      <td>1</td>\n",
       "      <td>BEVERAGES</td>\n",
       "      <td>0.0</td>\n",
       "      <td>0</td>\n",
       "    </tr>\n",
       "    <tr>\n",
       "      <th>4</th>\n",
       "      <td>4</td>\n",
       "      <td>2013-01-01</td>\n",
       "      <td>1</td>\n",
       "      <td>BOOKS</td>\n",
       "      <td>0.0</td>\n",
       "      <td>0</td>\n",
       "    </tr>\n",
       "  </tbody>\n",
       "</table>\n",
       "</div>"
      ],
      "text/plain": [
       "   id        date  store_nbr      family  sales  onpromotion\n",
       "0   0  2013-01-01          1  AUTOMOTIVE    0.0            0\n",
       "1   1  2013-01-01          1   BABY CARE    0.0            0\n",
       "2   2  2013-01-01          1      BEAUTY    0.0            0\n",
       "3   3  2013-01-01          1   BEVERAGES    0.0            0\n",
       "4   4  2013-01-01          1       BOOKS    0.0            0"
      ]
     },
     "execution_count": 4,
     "metadata": {},
     "output_type": "execute_result"
    }
   ],
   "source": [
    "\"\"\"\n",
    "id - the index of the row\n",
    "date - the current date\n",
    "store_nbr - the store\n",
    "family - the product family\n",
    "sales - number of sales in this family\n",
    "onpromotion - the number of products on promotion in this family\n",
    "\"\"\"\n",
    "train_df = pd.read_csv(config.dataset_dirpath / \"train.csv\")\n",
    "\n",
    "print(train_df.shape)\n",
    "train_df.head()"
   ]
  },
  {
   "cell_type": "code",
   "execution_count": 12,
   "metadata": {},
   "outputs": [
    {
     "name": "stdout",
     "output_type": "stream",
     "text": [
      "record length: 3000888 --> 15156\n",
      "[1 2 3]\n",
      "['BEVERAGES' 'BOOKS' 'EGGS']\n"
     ]
    }
   ],
   "source": [
    "\"\"\"\n",
    "For simplicity,\n",
    "reduce the dataset size\n",
    "\"\"\"\n",
    "mask_store = train_df['store_nbr'].isin([1, 2, 3])\n",
    "mask_family = train_df['family'].isin(['EGGS', 'BEVERAGES', 'BOOKS'])\n",
    "\n",
    "_length = len(train_df)\n",
    "train_df = train_df[mask_store & mask_family].reset_index(drop=True)\n",
    "print(f\"record length: {_length} --> {len(train_df)}\")\n",
    "print(train_df['store_nbr'].unique())\n",
    "print(train_df['family'].unique())"
   ]
  },
  {
   "cell_type": "code",
   "execution_count": 91,
   "metadata": {},
   "outputs": [
    {
     "name": "stdout",
     "output_type": "stream",
     "text": [
      "(28512, 5)\n"
     ]
    },
    {
     "data": {
      "text/html": [
       "<div>\n",
       "<style scoped>\n",
       "    .dataframe tbody tr th:only-of-type {\n",
       "        vertical-align: middle;\n",
       "    }\n",
       "\n",
       "    .dataframe tbody tr th {\n",
       "        vertical-align: top;\n",
       "    }\n",
       "\n",
       "    .dataframe thead th {\n",
       "        text-align: right;\n",
       "    }\n",
       "</style>\n",
       "<table border=\"1\" class=\"dataframe\">\n",
       "  <thead>\n",
       "    <tr style=\"text-align: right;\">\n",
       "      <th></th>\n",
       "      <th>id</th>\n",
       "      <th>date</th>\n",
       "      <th>store_nbr</th>\n",
       "      <th>family</th>\n",
       "      <th>onpromotion</th>\n",
       "    </tr>\n",
       "  </thead>\n",
       "  <tbody>\n",
       "    <tr>\n",
       "      <th>0</th>\n",
       "      <td>3000888</td>\n",
       "      <td>2017-08-16</td>\n",
       "      <td>1</td>\n",
       "      <td>AUTOMOTIVE</td>\n",
       "      <td>0</td>\n",
       "    </tr>\n",
       "    <tr>\n",
       "      <th>1</th>\n",
       "      <td>3000889</td>\n",
       "      <td>2017-08-16</td>\n",
       "      <td>1</td>\n",
       "      <td>BABY CARE</td>\n",
       "      <td>0</td>\n",
       "    </tr>\n",
       "    <tr>\n",
       "      <th>2</th>\n",
       "      <td>3000890</td>\n",
       "      <td>2017-08-16</td>\n",
       "      <td>1</td>\n",
       "      <td>BEAUTY</td>\n",
       "      <td>2</td>\n",
       "    </tr>\n",
       "    <tr>\n",
       "      <th>3</th>\n",
       "      <td>3000891</td>\n",
       "      <td>2017-08-16</td>\n",
       "      <td>1</td>\n",
       "      <td>BEVERAGES</td>\n",
       "      <td>20</td>\n",
       "    </tr>\n",
       "    <tr>\n",
       "      <th>4</th>\n",
       "      <td>3000892</td>\n",
       "      <td>2017-08-16</td>\n",
       "      <td>1</td>\n",
       "      <td>BOOKS</td>\n",
       "      <td>0</td>\n",
       "    </tr>\n",
       "  </tbody>\n",
       "</table>\n",
       "</div>"
      ],
      "text/plain": [
       "        id        date  store_nbr      family  onpromotion\n",
       "0  3000888  2017-08-16          1  AUTOMOTIVE            0\n",
       "1  3000889  2017-08-16          1   BABY CARE            0\n",
       "2  3000890  2017-08-16          1      BEAUTY            2\n",
       "3  3000891  2017-08-16          1   BEVERAGES           20\n",
       "4  3000892  2017-08-16          1       BOOKS            0"
      ]
     },
     "metadata": {},
     "output_type": "display_data"
    },
    {
     "name": "stdout",
     "output_type": "stream",
     "text": [
      "record length: 28512 --> 144\n",
      "[1 2 3]\n",
      "['BEVERAGES' 'BOOKS' 'EGGS']\n"
     ]
    }
   ],
   "source": [
    "test_df = pd.read_csv(config.dataset_dirpath / \"test.csv\")\n",
    "\n",
    "print(test_df.shape)\n",
    "display(test_df.head())\n",
    "\n",
    "\"\"\"\n",
    "For simplicity, reduce the dataset size\n",
    "\"\"\"\n",
    "mask_store = test_df['store_nbr'].isin([1, 2, 3])\n",
    "mask_family = test_df['family'].isin(['EGGS', 'BEVERAGES', 'BOOKS'])\n",
    "_length = len(test_df)\n",
    "test_df = test_df[mask_store & mask_family].reset_index(drop=True)\n",
    "print(f\"record length: {_length} --> {len(test_df)}\")\n",
    "print(test_df['store_nbr'].unique())\n",
    "print(test_df['family'].unique())\n",
    "\n",
    "\n",
    "test_df_dropped = test_df.drop(['onpromotion'], axis=1)\n",
    "test_df_sorted = test_df_dropped.sort_values(by=['store_nbr','family'])\n",
    "# display(test_df_sorted.head())"
   ]
  },
  {
   "cell_type": "code",
   "execution_count": 92,
   "metadata": {},
   "outputs": [
    {
     "name": "stdout",
     "output_type": "stream",
     "text": [
      "(350, 6)\n"
     ]
    },
    {
     "data": {
      "text/html": [
       "<div>\n",
       "<style scoped>\n",
       "    .dataframe tbody tr th:only-of-type {\n",
       "        vertical-align: middle;\n",
       "    }\n",
       "\n",
       "    .dataframe tbody tr th {\n",
       "        vertical-align: top;\n",
       "    }\n",
       "\n",
       "    .dataframe thead th {\n",
       "        text-align: right;\n",
       "    }\n",
       "</style>\n",
       "<table border=\"1\" class=\"dataframe\">\n",
       "  <thead>\n",
       "    <tr style=\"text-align: right;\">\n",
       "      <th></th>\n",
       "      <th>date</th>\n",
       "      <th>type</th>\n",
       "      <th>locale</th>\n",
       "      <th>locale_name</th>\n",
       "      <th>description</th>\n",
       "      <th>transferred</th>\n",
       "    </tr>\n",
       "  </thead>\n",
       "  <tbody>\n",
       "    <tr>\n",
       "      <th>0</th>\n",
       "      <td>2012-03-02</td>\n",
       "      <td>Holiday</td>\n",
       "      <td>Local</td>\n",
       "      <td>Manta</td>\n",
       "      <td>Fundacion de Manta</td>\n",
       "      <td>False</td>\n",
       "    </tr>\n",
       "    <tr>\n",
       "      <th>1</th>\n",
       "      <td>2012-04-01</td>\n",
       "      <td>Holiday</td>\n",
       "      <td>Regional</td>\n",
       "      <td>Cotopaxi</td>\n",
       "      <td>Provincializacion de Cotopaxi</td>\n",
       "      <td>False</td>\n",
       "    </tr>\n",
       "    <tr>\n",
       "      <th>2</th>\n",
       "      <td>2012-04-12</td>\n",
       "      <td>Holiday</td>\n",
       "      <td>Local</td>\n",
       "      <td>Cuenca</td>\n",
       "      <td>Fundacion de Cuenca</td>\n",
       "      <td>False</td>\n",
       "    </tr>\n",
       "    <tr>\n",
       "      <th>3</th>\n",
       "      <td>2012-04-14</td>\n",
       "      <td>Holiday</td>\n",
       "      <td>Local</td>\n",
       "      <td>Libertad</td>\n",
       "      <td>Cantonizacion de Libertad</td>\n",
       "      <td>False</td>\n",
       "    </tr>\n",
       "    <tr>\n",
       "      <th>4</th>\n",
       "      <td>2012-04-21</td>\n",
       "      <td>Holiday</td>\n",
       "      <td>Local</td>\n",
       "      <td>Riobamba</td>\n",
       "      <td>Cantonizacion de Riobamba</td>\n",
       "      <td>False</td>\n",
       "    </tr>\n",
       "  </tbody>\n",
       "</table>\n",
       "</div>"
      ],
      "text/plain": [
       "         date     type    locale locale_name                    description  \\\n",
       "0  2012-03-02  Holiday     Local       Manta             Fundacion de Manta   \n",
       "1  2012-04-01  Holiday  Regional    Cotopaxi  Provincializacion de Cotopaxi   \n",
       "2  2012-04-12  Holiday     Local      Cuenca            Fundacion de Cuenca   \n",
       "3  2012-04-14  Holiday     Local    Libertad      Cantonizacion de Libertad   \n",
       "4  2012-04-21  Holiday     Local    Riobamba      Cantonizacion de Riobamba   \n",
       "\n",
       "   transferred  \n",
       "0        False  \n",
       "1        False  \n",
       "2        False  \n",
       "3        False  \n",
       "4        False  "
      ]
     },
     "execution_count": 92,
     "metadata": {},
     "output_type": "execute_result"
    }
   ],
   "source": [
    "\"\"\"\n",
    "date - the date of the holiday\n",
    "type - the type of holiday (Holiday, Event, Transfer (see transferred column), Additional, Bridge, Work Day)\n",
    "locale - the scope of the event (Local, Regional, National)\n",
    "locale_name - the city where the event takes place\n",
    "description - name of the event\n",
    "transferred - whether the event has been transferred (moved to another day) or not\n",
    "\"\"\"\n",
    "event_df = pd.read_csv(config.dataset_dirpath / \"holidays_events.csv\")\n",
    "\n",
    "print(event_df.shape)\n",
    "event_df.head()"
   ]
  },
  {
   "cell_type": "code",
   "execution_count": 93,
   "metadata": {},
   "outputs": [
    {
     "name": "stdout",
     "output_type": "stream",
     "text": [
      "(1218, 2)\n"
     ]
    },
    {
     "data": {
      "text/html": [
       "<div>\n",
       "<style scoped>\n",
       "    .dataframe tbody tr th:only-of-type {\n",
       "        vertical-align: middle;\n",
       "    }\n",
       "\n",
       "    .dataframe tbody tr th {\n",
       "        vertical-align: top;\n",
       "    }\n",
       "\n",
       "    .dataframe thead th {\n",
       "        text-align: right;\n",
       "    }\n",
       "</style>\n",
       "<table border=\"1\" class=\"dataframe\">\n",
       "  <thead>\n",
       "    <tr style=\"text-align: right;\">\n",
       "      <th></th>\n",
       "      <th>date</th>\n",
       "      <th>dcoilwtico</th>\n",
       "    </tr>\n",
       "  </thead>\n",
       "  <tbody>\n",
       "    <tr>\n",
       "      <th>0</th>\n",
       "      <td>2013-01-01</td>\n",
       "      <td>NaN</td>\n",
       "    </tr>\n",
       "    <tr>\n",
       "      <th>1</th>\n",
       "      <td>2013-01-02</td>\n",
       "      <td>93.14</td>\n",
       "    </tr>\n",
       "    <tr>\n",
       "      <th>2</th>\n",
       "      <td>2013-01-03</td>\n",
       "      <td>92.97</td>\n",
       "    </tr>\n",
       "    <tr>\n",
       "      <th>3</th>\n",
       "      <td>2013-01-04</td>\n",
       "      <td>93.12</td>\n",
       "    </tr>\n",
       "    <tr>\n",
       "      <th>4</th>\n",
       "      <td>2013-01-07</td>\n",
       "      <td>93.20</td>\n",
       "    </tr>\n",
       "  </tbody>\n",
       "</table>\n",
       "</div>"
      ],
      "text/plain": [
       "         date  dcoilwtico\n",
       "0  2013-01-01         NaN\n",
       "1  2013-01-02       93.14\n",
       "2  2013-01-03       92.97\n",
       "3  2013-01-04       93.12\n",
       "4  2013-01-07       93.20"
      ]
     },
     "execution_count": 93,
     "metadata": {},
     "output_type": "execute_result"
    }
   ],
   "source": [
    "\"\"\"\n",
    "daily oil price\n",
    "\"\"\"\n",
    "oil_df = pd.read_csv(config.dataset_dirpath / \"oil.csv\")\n",
    "\n",
    "print(oil_df.shape)\n",
    "oil_df.head()"
   ]
  },
  {
   "cell_type": "code",
   "execution_count": 94,
   "metadata": {},
   "outputs": [
    {
     "name": "stdout",
     "output_type": "stream",
     "text": [
      "(54, 5)\n"
     ]
    },
    {
     "data": {
      "text/html": [
       "<div>\n",
       "<style scoped>\n",
       "    .dataframe tbody tr th:only-of-type {\n",
       "        vertical-align: middle;\n",
       "    }\n",
       "\n",
       "    .dataframe tbody tr th {\n",
       "        vertical-align: top;\n",
       "    }\n",
       "\n",
       "    .dataframe thead th {\n",
       "        text-align: right;\n",
       "    }\n",
       "</style>\n",
       "<table border=\"1\" class=\"dataframe\">\n",
       "  <thead>\n",
       "    <tr style=\"text-align: right;\">\n",
       "      <th></th>\n",
       "      <th>store_nbr</th>\n",
       "      <th>city</th>\n",
       "      <th>state</th>\n",
       "      <th>type</th>\n",
       "      <th>cluster</th>\n",
       "    </tr>\n",
       "  </thead>\n",
       "  <tbody>\n",
       "    <tr>\n",
       "      <th>0</th>\n",
       "      <td>1</td>\n",
       "      <td>Quito</td>\n",
       "      <td>Pichincha</td>\n",
       "      <td>D</td>\n",
       "      <td>13</td>\n",
       "    </tr>\n",
       "    <tr>\n",
       "      <th>1</th>\n",
       "      <td>2</td>\n",
       "      <td>Quito</td>\n",
       "      <td>Pichincha</td>\n",
       "      <td>D</td>\n",
       "      <td>13</td>\n",
       "    </tr>\n",
       "    <tr>\n",
       "      <th>2</th>\n",
       "      <td>3</td>\n",
       "      <td>Quito</td>\n",
       "      <td>Pichincha</td>\n",
       "      <td>D</td>\n",
       "      <td>8</td>\n",
       "    </tr>\n",
       "    <tr>\n",
       "      <th>3</th>\n",
       "      <td>4</td>\n",
       "      <td>Quito</td>\n",
       "      <td>Pichincha</td>\n",
       "      <td>D</td>\n",
       "      <td>9</td>\n",
       "    </tr>\n",
       "    <tr>\n",
       "      <th>4</th>\n",
       "      <td>5</td>\n",
       "      <td>Santo Domingo</td>\n",
       "      <td>Santo Domingo de los Tsachilas</td>\n",
       "      <td>D</td>\n",
       "      <td>4</td>\n",
       "    </tr>\n",
       "  </tbody>\n",
       "</table>\n",
       "</div>"
      ],
      "text/plain": [
       "   store_nbr           city                           state type  cluster\n",
       "0          1          Quito                       Pichincha    D       13\n",
       "1          2          Quito                       Pichincha    D       13\n",
       "2          3          Quito                       Pichincha    D        8\n",
       "3          4          Quito                       Pichincha    D        9\n",
       "4          5  Santo Domingo  Santo Domingo de los Tsachilas    D        4"
      ]
     },
     "execution_count": 94,
     "metadata": {},
     "output_type": "execute_result"
    }
   ],
   "source": [
    "\"\"\"\n",
    "store_nbr - the store\n",
    "city - the city where the store is located\n",
    "state - the state where the store is located\n",
    "type - the type of the store\n",
    "cluster - the number of similar stores in the vicinity\n",
    "\"\"\"\n",
    "store_df = pd.read_csv(config.dataset_dirpath / \"stores.csv\")\n",
    "\n",
    "print(store_df.shape)\n",
    "store_df.head()"
   ]
  },
  {
   "cell_type": "code",
   "execution_count": 95,
   "metadata": {},
   "outputs": [
    {
     "name": "stdout",
     "output_type": "stream",
     "text": [
      "(83488, 3)\n"
     ]
    },
    {
     "data": {
      "text/html": [
       "<div>\n",
       "<style scoped>\n",
       "    .dataframe tbody tr th:only-of-type {\n",
       "        vertical-align: middle;\n",
       "    }\n",
       "\n",
       "    .dataframe tbody tr th {\n",
       "        vertical-align: top;\n",
       "    }\n",
       "\n",
       "    .dataframe thead th {\n",
       "        text-align: right;\n",
       "    }\n",
       "</style>\n",
       "<table border=\"1\" class=\"dataframe\">\n",
       "  <thead>\n",
       "    <tr style=\"text-align: right;\">\n",
       "      <th></th>\n",
       "      <th>date</th>\n",
       "      <th>store_nbr</th>\n",
       "      <th>transactions</th>\n",
       "    </tr>\n",
       "  </thead>\n",
       "  <tbody>\n",
       "    <tr>\n",
       "      <th>0</th>\n",
       "      <td>2013-01-01</td>\n",
       "      <td>25</td>\n",
       "      <td>770</td>\n",
       "    </tr>\n",
       "    <tr>\n",
       "      <th>1</th>\n",
       "      <td>2013-01-02</td>\n",
       "      <td>1</td>\n",
       "      <td>2111</td>\n",
       "    </tr>\n",
       "    <tr>\n",
       "      <th>2</th>\n",
       "      <td>2013-01-02</td>\n",
       "      <td>2</td>\n",
       "      <td>2358</td>\n",
       "    </tr>\n",
       "    <tr>\n",
       "      <th>3</th>\n",
       "      <td>2013-01-02</td>\n",
       "      <td>3</td>\n",
       "      <td>3487</td>\n",
       "    </tr>\n",
       "    <tr>\n",
       "      <th>4</th>\n",
       "      <td>2013-01-02</td>\n",
       "      <td>4</td>\n",
       "      <td>1922</td>\n",
       "    </tr>\n",
       "  </tbody>\n",
       "</table>\n",
       "</div>"
      ],
      "text/plain": [
       "         date  store_nbr  transactions\n",
       "0  2013-01-01         25           770\n",
       "1  2013-01-02          1          2111\n",
       "2  2013-01-02          2          2358\n",
       "3  2013-01-02          3          3487\n",
       "4  2013-01-02          4          1922"
      ]
     },
     "execution_count": 95,
     "metadata": {},
     "output_type": "execute_result"
    }
   ],
   "source": [
    "transaction_df = pd.read_csv(config.dataset_dirpath / \"transactions.csv\")\n",
    "\n",
    "print(transaction_df.shape)\n",
    "transaction_df.head()"
   ]
  },
  {
   "cell_type": "code",
   "execution_count": 96,
   "metadata": {},
   "outputs": [
    {
     "name": "stdout",
     "output_type": "stream",
     "text": [
      "There are 0 duplicate rows\n",
      "There are 0 duplicate rows\n",
      "There are 0 duplicate rows\n",
      "There are 0 duplicate rows\n"
     ]
    }
   ],
   "source": [
    "\"\"\"\n",
    "Check for duplicate rows\n",
    "\"\"\"\n",
    "df_list = [train_df, event_df, oil_df, store_df]\n",
    "for df in df_list:\n",
    "    count_duplicate_rows = len(df)-len(df.drop_duplicates())\n",
    "    print(f\"There are {count_duplicate_rows} duplicate rows\")"
   ]
  },
  {
   "cell_type": "code",
   "execution_count": 97,
   "metadata": {},
   "outputs": [],
   "source": [
    "# \"\"\"\n",
    "# Reduce the amount of data for simplicity\n",
    "# \"\"\"\n",
    "# train_df = train_df.loc[train_df[\"store\"] <= 2]"
   ]
  },
  {
   "cell_type": "markdown",
   "metadata": {},
   "source": [
    "## Preprocessing"
   ]
  },
  {
   "cell_type": "markdown",
   "metadata": {},
   "source": [
    "unique name list for grouping"
   ]
  },
  {
   "cell_type": "code",
   "execution_count": 98,
   "metadata": {},
   "outputs": [
    {
     "data": {
      "text/plain": [
       "array(['BEVERAGES', 'BOOKS', 'EGGS'], dtype=object)"
      ]
     },
     "metadata": {},
     "output_type": "display_data"
    },
    {
     "data": {
      "text/plain": [
       "array([1, 2, 3])"
      ]
     },
     "metadata": {},
     "output_type": "display_data"
    }
   ],
   "source": [
    "family_list = train_df['family'].unique()\n",
    "# store_list = store_df['store_nbr'].unique()\n",
    "store_list = train_df['store_nbr'].unique()\n",
    "display(family_list)\n",
    "display(store_list)"
   ]
  },
  {
   "cell_type": "markdown",
   "metadata": {},
   "source": [
    "Merge dataset"
   ]
  },
  {
   "cell_type": "code",
   "execution_count": 99,
   "metadata": {},
   "outputs": [],
   "source": [
    "df = pd.merge(train_df, store_df, on='store_nbr')\n",
    "df = df.sort_values(by=['store_nbr', 'family', 'date'])"
   ]
  },
  {
   "cell_type": "code",
   "execution_count": 100,
   "metadata": {},
   "outputs": [],
   "source": [
    "df = df.astype({\"store_nbr\":'str', \"family\":'str', \"city\":'str',\n",
    "                \"state\":'str', \"type\":'str', \"cluster\":'str'})"
   ]
  },
  {
   "cell_type": "markdown",
   "metadata": {},
   "source": [
    "Keep timeseries based on `family`"
   ]
  },
  {
   "cell_type": "code",
   "execution_count": 101,
   "metadata": {},
   "outputs": [],
   "source": [
    "group_col_list = ['store_nbr', 'family']\n",
    "\n",
    "static_cov_col_list: List[str] = ['city', 'state', 'type', 'cluster']\n",
    "past_cov_col_list: List[str] = []\n",
    "future_cov_col_list: List[str] = []"
   ]
  },
  {
   "cell_type": "code",
   "execution_count": 102,
   "metadata": {},
   "outputs": [],
   "source": [
    "\"\"\"\n",
    "Prepare TimeSeries for Darts\n",
    "\n",
    "Note\n",
    "----\n",
    "time_col: str: timeseries column name\n",
    "group_cols, List[str]: individual time series are extracted by grouping `df` by `group_cols`\n",
    "static_cols, List[str]: extract these additional columns as static covariates (without grouping)\n",
    "values_cols, List[str]: timeseries value column name list\n",
    "\"\"\"\n",
    "series_dict = {}\n",
    "for family in family_list:\n",
    "    _df = df.loc[df['family'] == family, :]\n",
    "    series_list: List = TimeSeries.from_group_dataframe(\n",
    "        _df,\n",
    "        time_col=config.ts_col,\n",
    "        group_cols=group_col_list,\n",
    "        static_cols=static_cov_col_list,\n",
    "        value_cols=[config.target_col],\n",
    "        freq='D',\n",
    "        fill_missing_dates=True,\n",
    "    )\n",
    "    \"\"\"\n",
    "    Must to update\n",
    "    \"\"\"\n",
    "    for series in series_list:\n",
    "        \"\"\" float --> np.float32 \"\"\"\n",
    "        series = series.astype(float)\n",
    "    \"\"\" need to sort series by stores \"\"\"\n",
    "    series_dict[family] = series_list"
   ]
  },
  {
   "cell_type": "code",
   "execution_count": 103,
   "metadata": {},
   "outputs": [
    {
     "data": {
      "image/png": "[encoded data removed]",
      "text/plain": [
       "<Figure size 800x200 with 1 Axes>"
      ]
     },
     "metadata": {},
     "output_type": "display_data"
    }
   ],
   "source": [
    "for family in series_dict:\n",
    "    series_list = series_dict[family]\n",
    "    for series in series_list:\n",
    "        plt.figure(figsize=(8, 2))\n",
    "        series.plot(label='sales', lw=0.5)\n",
    "        plt.show()\n",
    "        break\n",
    "    break"
   ]
  },
  {
   "cell_type": "markdown",
   "metadata": {},
   "source": [
    "Normalizing time series"
   ]
  },
  {
   "cell_type": "code",
   "execution_count": 104,
   "metadata": {},
   "outputs": [],
   "source": [
    "pipeline_dict = {}\n",
    "scaled_series_dict = {}\n",
    "for family in series_dict:\n",
    "    train_filter = MissingValuesFiller(verbose=False, n_jobs=-1, name=\"Fill NAs\")\n",
    "    static_cov_transformer = StaticCovariatesTransformer(verbose=False, \n",
    "                                                        transformer_cat=OneHotEncoder(),\n",
    "                                                        name=\"ENcoder\")\n",
    "    log_transformer = InvertibleMapper(np.log1p, \n",
    "                                    np.expm1, \n",
    "                                    verbose=False, \n",
    "                                    n_jobs=-1,\n",
    "                                    name=\"Log-Transform\")\n",
    "    train_scaler = Scaler(verbose=False, n_jobs=-1, name=\"Scaling\")\n",
    "\n",
    "    train_pipeline = Pipeline([train_filter,\n",
    "                            static_cov_transformer,\n",
    "                            log_transformer,\n",
    "                            train_scaler])\n",
    "    scaled_series_list = train_pipeline.fit_transform(series_dict[family])\n",
    "\n",
    "    pipeline_dict[family] = train_pipeline\n",
    "    scaled_series_dict[family] = scaled_series_list"
   ]
  },
  {
   "cell_type": "code",
   "execution_count": 105,
   "metadata": {},
   "outputs": [
    {
     "data": {
      "image/png": "[encoded data removed]",
      "text/plain": [
       "<Figure size 800x200 with 1 Axes>"
      ]
     },
     "metadata": {},
     "output_type": "display_data"
    }
   ],
   "source": [
    "for family in scaled_series_dict:\n",
    "    series_list = scaled_series_dict[family]\n",
    "    for series in series_list:\n",
    "        plt.figure(figsize=(8, 2))\n",
    "        series.plot(label='sales', lw=0.5)\n",
    "        plt.show()\n",
    "        break\n",
    "    break"
   ]
  },
  {
   "cell_type": "markdown",
   "metadata": {},
   "source": [
    "### Covariates"
   ]
  },
  {
   "cell_type": "markdown",
   "metadata": {},
   "source": [
    "Date"
   ]
  },
  {
   "cell_type": "code",
   "execution_count": 106,
   "metadata": {},
   "outputs": [],
   "source": [
    "from darts.utils.timeseries_generation import datetime_attribute_timeseries\n",
    "\n",
    "full_time_period = pd.date_range(start='2013-01-01', end='2017-08-31', freq='D')\n",
    "\n",
    "\n",
    "year = datetime_attribute_timeseries(time_index = full_time_period, attribute=\"year\")\n",
    "month = datetime_attribute_timeseries(time_index = full_time_period, attribute=\"month\")\n",
    "day = datetime_attribute_timeseries(time_index = full_time_period, attribute=\"day\")\n",
    "dayofyear = datetime_attribute_timeseries(time_index = full_time_period, attribute=\"dayofyear\")\n",
    "weekday = datetime_attribute_timeseries(time_index = full_time_period, attribute=\"dayofweek\")\n",
    "weekofyear = datetime_attribute_timeseries(time_index = full_time_period, attribute=\"weekofyear\")\n",
    "timesteps = TimeSeries.from_times_and_values(times=full_time_period,\n",
    "                                            values=np.arange(len(full_time_period)),\n",
    "                                            columns=[\"linear_increase\"])\n",
    "\n",
    "time_cov = year.stack(month).stack(day).stack(dayofyear).stack(weekday).stack(weekofyear).stack(timesteps)\n",
    "time_cov = time_cov.astype(float)"
   ]
  },
  {
   "cell_type": "code",
   "execution_count": 107,
   "metadata": {},
   "outputs": [],
   "source": [
    "time_cov_scaler = Scaler(verbose=False, n_jobs=-1, name=\"Scaler\")\n",
    "time_cov_train, time_cov_val = time_cov.split_before(pd.Timestamp('20170816'))\n",
    "time_cov_scaler.fit(time_cov_train)\n",
    "time_cov_transformed = time_cov_scaler.transform(time_cov)"
   ]
  },
  {
   "cell_type": "markdown",
   "metadata": {},
   "source": [
    "Oil"
   ]
  },
  {
   "cell_type": "code",
   "execution_count": 108,
   "metadata": {},
   "outputs": [],
   "source": [
    "\"\"\"\n",
    "Moving avarage\n",
    "\"\"\"\n",
    "oil_series = TimeSeries.from_dataframe(oil_df,\n",
    "                                        time_col=config.ts_col,\n",
    "                                        value_cols=['dcoilwtico'],\n",
    "                                        freq='D')\n",
    "oil_series = oil_series.astype(float)\n",
    "\n",
    "# Transform\n",
    "oil_filler = MissingValuesFiller(verbose=False, n_jobs=-1, name=\"Filler\")\n",
    "oil_scaler = Scaler(verbose=False, n_jobs=-1, name=\"Scaler\")\n",
    "oil_pipeline = Pipeline([oil_filler, oil_scaler])\n",
    "\n",
    "oil_transformed = oil_pipeline.fit_transform(oil_series)\n",
    "\n",
    "# Moving Averages for Oil Price\n",
    "oil_moving_average_7 = MovingAverageFilter(window=7, centered=True)\n",
    "oil_moving_average_28 = MovingAverageFilter(window=28, centered=True)\n",
    "\n",
    "oil_moving_averages = []\n",
    "\n",
    "ma_7 = oil_moving_average_7.filter(oil_transformed).astype(float)\n",
    "ma_7 = ma_7.with_columns_renamed(col_names=ma_7.components, col_names_new=\"oil_ma_7\")\n",
    "ma_28 = oil_moving_average_28.filter(oil_transformed).astype(float)\n",
    "ma_28 = ma_28.with_columns_renamed(col_names=ma_28.components, col_names_new=\"oil_ma_28\")\n",
    "oil_moving_averages = ma_7.stack(ma_28)"
   ]
  },
  {
   "cell_type": "code",
   "execution_count": 109,
   "metadata": {},
   "outputs": [
    {
     "data": {
      "image/png": "[encoded data removed]",
      "text/plain": [
       "<Figure size 800x200 with 1 Axes>"
      ]
     },
     "metadata": {},
     "output_type": "display_data"
    }
   ],
   "source": [
    "plt.figure(figsize=(8, 2))\n",
    "oil_moving_averages.plot()\n",
    "plt.show()"
   ]
  },
  {
   "cell_type": "markdown",
   "metadata": {},
   "source": [
    "Holiday"
   ]
  },
  {
   "cell_type": "code",
   "execution_count": 110,
   "metadata": {},
   "outputs": [],
   "source": [
    "def holiday_list(df_stores):\n",
    "\n",
    "    listofseries = []\n",
    "\n",
    "    for i in range(0,len(df_stores)):\n",
    "\n",
    "            df_holiday_dummies = pd.DataFrame(columns=['date'])\n",
    "            df_holiday_dummies[\"date\"] = event_df[\"date\"]\n",
    "            \n",
    "            df_holiday_dummies[\"national_holiday\"] = np.where(((event_df[\"type\"] == \"Holiday\") & (event_df[\"locale\"] == \"National\")), 1, 0)\n",
    "\n",
    "            df_holiday_dummies[\"earthquake_relief\"] = np.where(event_df['description'].str.contains('Terremoto Manabi'), 1, 0)\n",
    "\n",
    "            df_holiday_dummies[\"christmas\"] = np.where(event_df['description'].str.contains('Navidad'), 1, 0)\n",
    "\n",
    "            df_holiday_dummies[\"football_event\"] = np.where(event_df['description'].str.contains('futbol'), 1, 0)\n",
    "\n",
    "            df_holiday_dummies[\"national_event\"] = np.where(((event_df[\"type\"] == \"Event\") & (event_df[\"locale\"] == \"National\") & (~event_df['description'].str.contains('Terremoto Manabi')) & (~event_df['description'].str.contains('futbol'))), 1, 0)\n",
    "\n",
    "            df_holiday_dummies[\"work_day\"] = np.where((event_df[\"type\"] == \"Work Day\"), 1, 0)\n",
    "\n",
    "            df_holiday_dummies[\"local_holiday\"] = np.where(((event_df[\"type\"] == \"Holiday\") & ((event_df[\"locale_name\"] == df_stores['state'][i]) | (event_df[\"locale_name\"] == df_stores['city'][i]))), 1, 0)\n",
    "\n",
    "            listofseries.append(df_holiday_dummies)\n",
    "\n",
    "    return listofseries"
   ]
  },
  {
   "cell_type": "code",
   "execution_count": 111,
   "metadata": {},
   "outputs": [],
   "source": [
    "def remove_0_and_duplicates(holiday_list):\n",
    "\n",
    "    listofseries = []\n",
    "    \n",
    "    for i in range(0,len(holiday_list)):\n",
    "            \n",
    "            df_holiday_per_store = list_of_holidays_per_store[i].set_index('date')\n",
    "\n",
    "            df_holiday_per_store = df_holiday_per_store.loc[~(df_holiday_per_store==0).all(axis=1)]\n",
    "            \n",
    "            df_holiday_per_store = df_holiday_per_store.groupby('date').agg({'national_holiday':'max', 'earthquake_relief':'max', \n",
    "                                'christmas':'max', 'football_event':'max', \n",
    "                                'national_event':'max', 'work_day':'max', \n",
    "                                'local_holiday':'max'}).reset_index()\n",
    "\n",
    "            listofseries.append(df_holiday_per_store)\n",
    "\n",
    "    return listofseries"
   ]
  },
  {
   "cell_type": "code",
   "execution_count": 112,
   "metadata": {},
   "outputs": [],
   "source": [
    "def holiday_TS_list_54(holiday_list):\n",
    "\n",
    "    listofseries = []\n",
    "    \n",
    "    for i in range(0,54):\n",
    "            \n",
    "            holidays_TS = TimeSeries.from_dataframe(list_of_holidays_per_store[i], \n",
    "                                        time_col = 'date',\n",
    "                                        fill_missing_dates=True,\n",
    "                                        fillna_value=0,\n",
    "                                        freq='D')\n",
    "            \n",
    "            holidays_TS = holidays_TS.slice(pd.Timestamp('20130101'),pd.Timestamp('20170831'))\n",
    "            holidays_TS = holidays_TS.astype(np.float32)\n",
    "            listofseries.append(holidays_TS)\n",
    "\n",
    "    return listofseries"
   ]
  },
  {
   "cell_type": "code",
   "execution_count": 113,
   "metadata": {},
   "outputs": [],
   "source": [
    "\"\"\"\n",
    "We get 54 TimeSeries with 7 columns:\n",
    "\n",
    "national_holiday\n",
    "earthquake_relief\n",
    "christmas\n",
    "football_event\n",
    "national_event\n",
    "work_day\n",
    "local_holiday\n",
    "\"\"\"\n",
    "list_of_holidays_per_store = holiday_list(store_df)\n",
    "list_of_holidays_per_store = remove_0_and_duplicates(list_of_holidays_per_store)   \n",
    "list_of_holidays_store = holiday_TS_list_54(list_of_holidays_per_store)\n",
    "\n",
    "holidays_filler = MissingValuesFiller(verbose=False, n_jobs=-1, name=\"Filler\")\n",
    "holidays_scaler = Scaler(verbose=False, n_jobs=-1, name=\"Scaler\")\n",
    "\n",
    "holidays_pipeline = Pipeline([holidays_filler, holidays_scaler])\n",
    "holidays_transformed = holidays_pipeline.fit_transform(list_of_holidays_store)"
   ]
  },
  {
   "cell_type": "code",
   "execution_count": 114,
   "metadata": {},
   "outputs": [
    {
     "data": {
      "image/png": "[encoded data removed]",
      "text/plain": [
       "<Figure size 800x200 with 1 Axes>"
      ]
     },
     "metadata": {},
     "output_type": "display_data"
    }
   ],
   "source": [
    "plt.figure(figsize=(8, 2))\n",
    "holidays_transformed[0].plot()\n",
    "plt.show()"
   ]
  },
  {
   "cell_type": "markdown",
   "metadata": {},
   "source": [
    "Promotion"
   ]
  },
  {
   "cell_type": "code",
   "execution_count": 115,
   "metadata": {},
   "outputs": [],
   "source": [
    "df_promotion = pd.concat([train_df, test_df], axis=0)\n",
    "df_promotion = df_promotion.sort_values([\"store_nbr\",\"family\",\"date\"])\n",
    "df_promotion.tail()\n",
    "\n",
    "family_promotion_dict = {}\n",
    "\n",
    "for family in family_list:\n",
    "    df_family = df_promotion.loc[df_promotion['family'] == family]\n",
    "\n",
    "    list_of_TS_promo = TimeSeries.from_group_dataframe(\n",
    "                                df_family,\n",
    "                                time_col=\"date\",\n",
    "                                group_cols=[\"store_nbr\",\"family\"],\n",
    "                                value_cols=\"onpromotion\",\n",
    "                                fill_missing_dates=True,\n",
    "                                freq='D')\n",
    "\n",
    "    for ts in list_of_TS_promo:\n",
    "        ts = ts.astype(np.float32)\n",
    "\n",
    "    family_promotion_dict[family] = list_of_TS_promo"
   ]
  },
  {
   "cell_type": "code",
   "execution_count": 116,
   "metadata": {},
   "outputs": [
    {
     "data": {
      "image/png": "[encoded data removed]",
      "text/plain": [
       "<Figure size 800x200 with 1 Axes>"
      ]
     },
     "metadata": {},
     "output_type": "display_data"
    }
   ],
   "source": [
    "plt.figure(figsize=(8, 2))\n",
    "family_promotion_dict['EGGS'][0].plot()\n",
    "plt.show()"
   ]
  },
  {
   "cell_type": "code",
   "execution_count": 117,
   "metadata": {},
   "outputs": [
    {
     "name": "stderr",
     "output_type": "stream",
     "text": [
      "100%|██████████| 3/3 [00:00<00:00, 13.62it/s]\n"
     ]
    }
   ],
   "source": [
    "\"\"\"\n",
    "moving average in 7 and 28\n",
    "\"\"\"\n",
    "promotion_transformed_dict = {}\n",
    "\n",
    "for key in tqdm(family_promotion_dict):\n",
    "    promo_filler = MissingValuesFiller(verbose=False, n_jobs=-1, name=\"Fill NAs\")\n",
    "    promo_scaler = Scaler(verbose=False, n_jobs=-1, name=\"Scaling\")\n",
    "\n",
    "    promo_pipeline = Pipeline([promo_filler,\n",
    "                                promo_scaler])\n",
    "\n",
    "    promotion_transformed = promo_pipeline.fit_transform(family_promotion_dict[key])\n",
    "\n",
    "    # Moving Averages for Promotion Family Dictionaries\n",
    "    promo_moving_average_7 = MovingAverageFilter(window=7)\n",
    "    promo_moving_average_28 = MovingAverageFilter(window=28)\n",
    "\n",
    "    promotion_covs = []\n",
    "\n",
    "    for ts in promotion_transformed:\n",
    "        ma_7 = promo_moving_average_7.filter(ts)\n",
    "        ma_7 = TimeSeries.from_series(ma_7.pd_series())  \n",
    "        ma_7 = ma_7.astype(np.float32)\n",
    "        ma_7 = ma_7.with_columns_renamed(col_names=ma_7.components, col_names_new=\"promotion_ma_7\")\n",
    "        ma_28 = promo_moving_average_28.filter(ts)\n",
    "        ma_28 = TimeSeries.from_series(ma_28.pd_series())  \n",
    "        ma_28 = ma_28.astype(np.float32)\n",
    "        ma_28 = ma_28.with_columns_renamed(col_names=ma_28.components, col_names_new=\"promotion_ma_28\")\n",
    "        promo_and_mas = ts.stack(ma_7).stack(ma_28)\n",
    "        promotion_covs.append(promo_and_mas)\n",
    "\n",
    "    promotion_transformed_dict[key] = promotion_covs"
   ]
  },
  {
   "cell_type": "code",
   "execution_count": 118,
   "metadata": {},
   "outputs": [
    {
     "data": {
      "image/png": "[encoded data removed]",
      "text/plain": [
       "<Figure size 800x200 with 1 Axes>"
      ]
     },
     "metadata": {},
     "output_type": "display_data"
    }
   ],
   "source": [
    "plt.figure(figsize=(8, 2))\n",
    "promotion_transformed_dict['EGGS'][0].plot()\n",
    "plt.show()"
   ]
  },
  {
   "cell_type": "markdown",
   "metadata": {},
   "source": [
    "### Grouping the covariates"
   ]
  },
  {
   "cell_type": "markdown",
   "metadata": {},
   "source": [
    "Future Covariates"
   ]
  },
  {
   "cell_type": "code",
   "execution_count": 119,
   "metadata": {},
   "outputs": [],
   "source": [
    "general_covariates = time_cov_transformed.stack(oil_transformed).stack(oil_moving_averages)"
   ]
  },
  {
   "cell_type": "code",
   "execution_count": 120,
   "metadata": {},
   "outputs": [],
   "source": [
    "\"\"\"\n",
    "Then for each store, \n",
    "we gather the TimeSeries of the holidays with the `general_covariates`\n",
    "\"\"\"\n",
    "store_covariates_future = []\n",
    "\n",
    "for store in range(0,len(store_list)):\n",
    "    stacked_covariates = holidays_transformed[store].stack(general_covariates)  \n",
    "    store_covariates_future.append(stacked_covariates)"
   ]
  },
  {
   "cell_type": "code",
   "execution_count": 121,
   "metadata": {},
   "outputs": [
    {
     "name": "stderr",
     "output_type": "stream",
     "text": [
      "100%|██████████| 3/3 [00:00<00:00, 207.87it/s]\n"
     ]
    }
   ],
   "source": [
    "future_covariates_dict = {}\n",
    "\n",
    "for key in tqdm(promotion_transformed_dict):\n",
    "\n",
    "    promotion_family = promotion_transformed_dict[key]\n",
    "    covariates_future = [promotion_family[i].stack(store_covariates_future[i]) for i in range(0, len(promotion_family))]\n",
    "\n",
    "    future_covariates_dict[key] = covariates_future"
   ]
  },
  {
   "cell_type": "code",
   "execution_count": 123,
   "metadata": {},
   "outputs": [
    {
     "data": {
      "text/plain": [
       "Index(['onpromotion', 'promotion_ma_7', 'promotion_ma_28', 'national_holiday',\n",
       "       'earthquake_relief', 'christmas', 'football_event', 'national_event',\n",
       "       'work_day', 'local_holiday', 'year', 'month', 'day', 'dayofyear',\n",
       "       'dayofweek', 'weekofyear', 'linear_increase', 'dcoilwtico', 'oil_ma_7',\n",
       "       'oil_ma_28'],\n",
       "      dtype='object', name='component')"
      ]
     },
     "metadata": {},
     "output_type": "display_data"
    }
   ],
   "source": [
    "display(future_covariates_dict['EGGS'][0].components)"
   ]
  },
  {
   "cell_type": "markdown",
   "metadata": {},
   "source": [
    "Past Covariates"
   ]
  },
  {
   "cell_type": "code",
   "execution_count": 124,
   "metadata": {},
   "outputs": [],
   "source": [
    "transaction_df.sort_values([\"store_nbr\",\"date\"], inplace=True)\n",
    "\n",
    "TS_transactions_list = TimeSeries.from_group_dataframe(\n",
    "                                transaction_df,\n",
    "                                time_col=\"date\",\n",
    "                                group_cols=[\"store_nbr\"],\n",
    "                                value_cols=\"transactions\",\n",
    "                                fill_missing_dates=True,\n",
    "                                freq='D')\n",
    "\n",
    "transactions_list = []\n",
    "\n",
    "for ts in TS_transactions_list:\n",
    "            series = TimeSeries.from_series(ts.pd_series())\n",
    "            series = series.astype(np.float32)\n",
    "            transactions_list.append(series)\n",
    "\n",
    "transactions_list[24] = transactions_list[24].slice(start_ts=pd.Timestamp('20130102'), end_ts=pd.Timestamp('20170815'))\n",
    "\n",
    "from datetime import datetime, timedelta\n",
    "\n",
    "transactions_list_full = []\n",
    "\n",
    "for ts in transactions_list:\n",
    "    if ts.start_time() > pd.Timestamp('20130101'):\n",
    "        end_time = (ts.start_time() - timedelta(days=1))\n",
    "        delta = end_time - pd.Timestamp('20130101')\n",
    "        zero_series = TimeSeries.from_times_and_values(\n",
    "                                times=pd.date_range(start=pd.Timestamp('20130101'), \n",
    "                                end=end_time, freq=\"D\"),\n",
    "                                values=np.zeros(delta.days+1))\n",
    "        ts = zero_series.append(ts)\n",
    "        ts = ts.with_columns_renamed(col_names=ts.components, col_names_new=\"transactions\")\n",
    "        transactions_list_full.append(ts)\n",
    "\n",
    "transactions_filler = MissingValuesFiller(verbose=False, n_jobs=-1, name=\"Filler\")\n",
    "transactions_scaler = Scaler(verbose=False, n_jobs=-1, name=\"Scaler\")\n",
    "\n",
    "transactions_pipeline = Pipeline([transactions_filler, transactions_scaler])\n",
    "transactions_transformed = transactions_pipeline.fit_transform(transactions_list_full)"
   ]
  },
  {
   "cell_type": "code",
   "execution_count": 125,
   "metadata": {},
   "outputs": [
    {
     "data": {
      "image/png": "[encoded data removed]",
      "text/plain": [
       "<Figure size 800x200 with 1 Axes>"
      ]
     },
     "metadata": {},
     "output_type": "display_data"
    }
   ],
   "source": [
    "plt.figure(figsize=(8, 2))\n",
    "transactions_transformed[0].plot()\n",
    "plt.show()"
   ]
  },
  {
   "cell_type": "markdown",
   "metadata": {},
   "source": [
    "## Forecasting Model"
   ]
  },
  {
   "cell_type": "code",
   "execution_count": 126,
   "metadata": {},
   "outputs": [],
   "source": [
    "\"\"\"\n",
    "Hyper params for TiDE\n",
    "\"\"\"\n",
    "optimizer_kwargs = {\n",
    "    \"lr\": 1e-4,\n",
    "}\n",
    "\n",
    "# PyTorch Lightning Trainer arguments\n",
    "pl_trainer_kwargs = {\n",
    "    \"gradient_clip_val\": 1,\n",
    "    \"max_epochs\": 1000,  # 200\n",
    "    \"accelerator\": \"cpu\",  # default=\"auto\", \"gpu\", \"cpu\"\n",
    "    \"callbacks\": [],\n",
    "}\n",
    "\n",
    "# learning rate scheduler\n",
    "lr_scheduler_cls = torch.optim.lr_scheduler.ExponentialLR\n",
    "lr_scheduler_kwargs = {\n",
    "    \"gamma\": 0.999,\n",
    "}\n",
    "\n",
    "# early stopping (needs to be reset for each model later on)\n",
    "# this setting stops training once the the validation loss has not decreased by more than 1e-3 for 10 epochs\n",
    "early_stopping_args = {\n",
    "    \"monitor\": \"val_loss\",\n",
    "    \"patience\": 40,  # 10\n",
    "    \"min_delta\": 1e-3,\n",
    "    \"mode\": \"min\",\n",
    "}\n",
    "\n",
    "#\n",
    "common_model_args = {\n",
    "    \"input_chunk_length\": 12,  # context window/lookback window\n",
    "    \"output_chunk_length\": 1,  # forecast horizon/lookahead window\n",
    "    \"optimizer_kwargs\": optimizer_kwargs,\n",
    "    \"pl_trainer_kwargs\": pl_trainer_kwargs,\n",
    "    \"lr_scheduler_cls\": lr_scheduler_cls,\n",
    "    \"lr_scheduler_kwargs\": lr_scheduler_kwargs,\n",
    "    \"likelihood\": None,  # use a likelihood for probabilistic forecasts\n",
    "    \"save_checkpoints\": True,  # checkpoint to retrieve the best performing model state,\n",
    "    \"force_reset\": True,\n",
    "    \"batch_size\": 256,\n",
    "    \"random_state\": config.seed,\n",
    "}"
   ]
  },
  {
   "cell_type": "code",
   "execution_count": 127,
   "metadata": {},
   "outputs": [],
   "source": [
    "n_timeseries = 16"
   ]
  },
  {
   "cell_type": "code",
   "execution_count": 128,
   "metadata": {},
   "outputs": [
    {
     "data": {
      "text/plain": [
       "'Training...'"
      ]
     },
     "metadata": {},
     "output_type": "display_data"
    },
    {
     "name": "stderr",
     "output_type": "stream",
     "text": [
      "  0%|          | 0/3 [00:00<?, ?it/s]ValueError: The provided sequence of target series must have the same length as the provided sequence of covariate series.\n",
      "  0%|          | 0/3 [00:00<?, ?it/s]\n"
     ]
    },
    {
     "ename": "ValueError",
     "evalue": "The provided sequence of target series must have the same length as the provided sequence of covariate series.",
     "output_type": "error",
     "traceback": [
      "\u001b[0;31m---------------------------------------------------------------------------\u001b[0m",
      "\u001b[0;31mValueError\u001b[0m                                Traceback (most recent call last)",
      "\u001b[1;32m/Users/sho/git-portfolio/sales_forecast_walmart/notebooks/baseline.ipynb Cell 55\u001b[0m line \u001b[0;36m2\n\u001b[1;32m     <a href='vscode-notebook-cell:/Users/sho/git-portfolio/sales_forecast_walmart/notebooks/baseline.ipynb#Y104sZmlsZQ%3D%3D?line=20'>21</a>\u001b[0m pl_trainer_kwargs[\u001b[39m\"\u001b[39m\u001b[39mcallbacks\u001b[39m\u001b[39m\"\u001b[39m] \u001b[39m=\u001b[39m [\n\u001b[1;32m     <a href='vscode-notebook-cell:/Users/sho/git-portfolio/sales_forecast_walmart/notebooks/baseline.ipynb#Y104sZmlsZQ%3D%3D?line=21'>22</a>\u001b[0m     EarlyStopping(\n\u001b[1;32m     <a href='vscode-notebook-cell:/Users/sho/git-portfolio/sales_forecast_walmart/notebooks/baseline.ipynb#Y104sZmlsZQ%3D%3D?line=22'>23</a>\u001b[0m         \u001b[39m*\u001b[39m\u001b[39m*\u001b[39mearly_stopping_args,\n\u001b[1;32m     <a href='vscode-notebook-cell:/Users/sho/git-portfolio/sales_forecast_walmart/notebooks/baseline.ipynb#Y104sZmlsZQ%3D%3D?line=23'>24</a>\u001b[0m     )\n\u001b[1;32m     <a href='vscode-notebook-cell:/Users/sho/git-portfolio/sales_forecast_walmart/notebooks/baseline.ipynb#Y104sZmlsZQ%3D%3D?line=24'>25</a>\u001b[0m ]\n\u001b[1;32m     <a href='vscode-notebook-cell:/Users/sho/git-portfolio/sales_forecast_walmart/notebooks/baseline.ipynb#Y104sZmlsZQ%3D%3D?line=26'>27</a>\u001b[0m \u001b[39m# training\u001b[39;00m\n\u001b[0;32m---> <a href='vscode-notebook-cell:/Users/sho/git-portfolio/sales_forecast_walmart/notebooks/baseline.ipynb#Y104sZmlsZQ%3D%3D?line=27'>28</a>\u001b[0m model\u001b[39m.\u001b[39;49mfit(\n\u001b[1;32m     <a href='vscode-notebook-cell:/Users/sho/git-portfolio/sales_forecast_walmart/notebooks/baseline.ipynb#Y104sZmlsZQ%3D%3D?line=28'>29</a>\u001b[0m     series\u001b[39m=\u001b[39;49mtrain_sliced,\n\u001b[1;32m     <a href='vscode-notebook-cell:/Users/sho/git-portfolio/sales_forecast_walmart/notebooks/baseline.ipynb#Y104sZmlsZQ%3D%3D?line=29'>30</a>\u001b[0m     \u001b[39m# val_series=val_series[:n_timeseries],\u001b[39;49;00m\n\u001b[1;32m     <a href='vscode-notebook-cell:/Users/sho/git-portfolio/sales_forecast_walmart/notebooks/baseline.ipynb#Y104sZmlsZQ%3D%3D?line=30'>31</a>\u001b[0m     past_covariates\u001b[39m=\u001b[39;49mtransactions_transformed,\n\u001b[1;32m     <a href='vscode-notebook-cell:/Users/sho/git-portfolio/sales_forecast_walmart/notebooks/baseline.ipynb#Y104sZmlsZQ%3D%3D?line=31'>32</a>\u001b[0m     \u001b[39m# val_past_covariates=past_cov_series,\u001b[39;49;00m\n\u001b[1;32m     <a href='vscode-notebook-cell:/Users/sho/git-portfolio/sales_forecast_walmart/notebooks/baseline.ipynb#Y104sZmlsZQ%3D%3D?line=32'>33</a>\u001b[0m     future_covariates\u001b[39m=\u001b[39;49mTCN_covariates,\n\u001b[1;32m     <a href='vscode-notebook-cell:/Users/sho/git-portfolio/sales_forecast_walmart/notebooks/baseline.ipynb#Y104sZmlsZQ%3D%3D?line=33'>34</a>\u001b[0m     \u001b[39m# val_future_covariates=past_cov_series,\u001b[39;49;00m\n\u001b[1;32m     <a href='vscode-notebook-cell:/Users/sho/git-portfolio/sales_forecast_walmart/notebooks/baseline.ipynb#Y104sZmlsZQ%3D%3D?line=34'>35</a>\u001b[0m     verbose\u001b[39m=\u001b[39;49m\u001b[39mFalse\u001b[39;49;00m,\n\u001b[1;32m     <a href='vscode-notebook-cell:/Users/sho/git-portfolio/sales_forecast_walmart/notebooks/baseline.ipynb#Y104sZmlsZQ%3D%3D?line=35'>36</a>\u001b[0m )\n\u001b[1;32m     <a href='vscode-notebook-cell:/Users/sho/git-portfolio/sales_forecast_walmart/notebooks/baseline.ipynb#Y104sZmlsZQ%3D%3D?line=37'>38</a>\u001b[0m tide_models_dict[family] \u001b[39m=\u001b[39m model\n\u001b[1;32m     <a href='vscode-notebook-cell:/Users/sho/git-portfolio/sales_forecast_walmart/notebooks/baseline.ipynb#Y104sZmlsZQ%3D%3D?line=39'>40</a>\u001b[0m \u001b[39mbreak\u001b[39;00m\n",
      "File \u001b[0;32m~/git-portfolio/sales_forecast_walmart/venv/lib/python3.9/site-packages/darts/utils/torch.py:112\u001b[0m, in \u001b[0;36mrandom_method.<locals>.decorator\u001b[0;34m(self, *args, **kwargs)\u001b[0m\n\u001b[1;32m    110\u001b[0m \u001b[39mwith\u001b[39;00m fork_rng():\n\u001b[1;32m    111\u001b[0m     manual_seed(\u001b[39mself\u001b[39m\u001b[39m.\u001b[39m_random_instance\u001b[39m.\u001b[39mrandint(\u001b[39m0\u001b[39m, high\u001b[39m=\u001b[39mMAX_TORCH_SEED_VALUE))\n\u001b[0;32m--> 112\u001b[0m     \u001b[39mreturn\u001b[39;00m decorated(\u001b[39mself\u001b[39;49m, \u001b[39m*\u001b[39;49margs, \u001b[39m*\u001b[39;49m\u001b[39m*\u001b[39;49mkwargs)\n",
      "File \u001b[0;32m~/git-portfolio/sales_forecast_walmart/venv/lib/python3.9/site-packages/darts/models/forecasting/torch_forecasting_model.py:681\u001b[0m, in \u001b[0;36mTorchForecastingModel.fit\u001b[0;34m(self, series, past_covariates, future_covariates, val_series, val_past_covariates, val_future_covariates, trainer, verbose, epochs, max_samples_per_ts, num_loader_workers)\u001b[0m\n\u001b[1;32m    600\u001b[0m \u001b[39m@random_method\u001b[39m\n\u001b[1;32m    601\u001b[0m \u001b[39mdef\u001b[39;00m \u001b[39mfit\u001b[39m(\n\u001b[1;32m    602\u001b[0m     \u001b[39mself\u001b[39m,\n\u001b[0;32m   (...)\u001b[0m\n\u001b[1;32m    613\u001b[0m     num_loader_workers: \u001b[39mint\u001b[39m \u001b[39m=\u001b[39m \u001b[39m0\u001b[39m,\n\u001b[1;32m    614\u001b[0m ) \u001b[39m-\u001b[39m\u001b[39m>\u001b[39m \u001b[39m\"\u001b[39m\u001b[39mTorchForecastingModel\u001b[39m\u001b[39m\"\u001b[39m:\n\u001b[1;32m    615\u001b[0m \u001b[39m    \u001b[39m\u001b[39m\"\"\"Fit/train the model on one or multiple series.\u001b[39;00m\n\u001b[1;32m    616\u001b[0m \n\u001b[1;32m    617\u001b[0m \u001b[39m    This method wraps around :func:`fit_from_dataset()`, constructing a default training\u001b[39;00m\n\u001b[0;32m   (...)\u001b[0m\n\u001b[1;32m    675\u001b[0m \u001b[39m        Fitted model.\u001b[39;00m\n\u001b[1;32m    676\u001b[0m \u001b[39m    \"\"\"\u001b[39;00m\n\u001b[1;32m    677\u001b[0m     (\n\u001b[1;32m    678\u001b[0m         series,\n\u001b[1;32m    679\u001b[0m         past_covariates,\n\u001b[1;32m    680\u001b[0m         future_covariates,\n\u001b[0;32m--> 681\u001b[0m     ), params \u001b[39m=\u001b[39m \u001b[39mself\u001b[39;49m\u001b[39m.\u001b[39;49m_setup_for_fit_from_dataset(\n\u001b[1;32m    682\u001b[0m         series\u001b[39m=\u001b[39;49mseries,\n\u001b[1;32m    683\u001b[0m         past_covariates\u001b[39m=\u001b[39;49mpast_covariates,\n\u001b[1;32m    684\u001b[0m         future_covariates\u001b[39m=\u001b[39;49mfuture_covariates,\n\u001b[1;32m    685\u001b[0m         val_series\u001b[39m=\u001b[39;49mval_series,\n\u001b[1;32m    686\u001b[0m         val_past_covariates\u001b[39m=\u001b[39;49mval_past_covariates,\n\u001b[1;32m    687\u001b[0m         val_future_covariates\u001b[39m=\u001b[39;49mval_future_covariates,\n\u001b[1;32m    688\u001b[0m         trainer\u001b[39m=\u001b[39;49mtrainer,\n\u001b[1;32m    689\u001b[0m         verbose\u001b[39m=\u001b[39;49mverbose,\n\u001b[1;32m    690\u001b[0m         epochs\u001b[39m=\u001b[39;49mepochs,\n\u001b[1;32m    691\u001b[0m         max_samples_per_ts\u001b[39m=\u001b[39;49mmax_samples_per_ts,\n\u001b[1;32m    692\u001b[0m         num_loader_workers\u001b[39m=\u001b[39;49mnum_loader_workers,\n\u001b[1;32m    693\u001b[0m     )\n\u001b[1;32m    694\u001b[0m     \u001b[39m# call super fit only if user is actually fitting the model\u001b[39;00m\n\u001b[1;32m    695\u001b[0m     \u001b[39msuper\u001b[39m()\u001b[39m.\u001b[39mfit(\n\u001b[1;32m    696\u001b[0m         series\u001b[39m=\u001b[39mseq2series(series),\n\u001b[1;32m    697\u001b[0m         past_covariates\u001b[39m=\u001b[39mseq2series(past_covariates),\n\u001b[1;32m    698\u001b[0m         future_covariates\u001b[39m=\u001b[39mseq2series(future_covariates),\n\u001b[1;32m    699\u001b[0m     )\n",
      "File \u001b[0;32m~/git-portfolio/sales_forecast_walmart/venv/lib/python3.9/site-packages/darts/models/forecasting/torch_forecasting_model.py:807\u001b[0m, in \u001b[0;36mTorchForecastingModel._setup_for_fit_from_dataset\u001b[0;34m(self, series, past_covariates, future_covariates, val_series, val_past_covariates, val_future_covariates, trainer, verbose, epochs, max_samples_per_ts, num_loader_workers)\u001b[0m\n\u001b[1;32m    782\u001b[0m     match \u001b[39m=\u001b[39m (\n\u001b[1;32m    783\u001b[0m         series[\u001b[39m0\u001b[39m]\u001b[39m.\u001b[39mwidth \u001b[39m==\u001b[39m val_series[\u001b[39m0\u001b[39m]\u001b[39m.\u001b[39mwidth\n\u001b[1;32m    784\u001b[0m         \u001b[39mand\u001b[39;00m (past_covariates[\u001b[39m0\u001b[39m]\u001b[39m.\u001b[39mwidth \u001b[39mif\u001b[39;00m past_covariates \u001b[39mis\u001b[39;00m \u001b[39mnot\u001b[39;00m \u001b[39mNone\u001b[39;00m \u001b[39melse\u001b[39;00m \u001b[39mNone\u001b[39;00m)\n\u001b[0;32m   (...)\u001b[0m\n\u001b[1;32m    799\u001b[0m         )\n\u001b[1;32m    800\u001b[0m     )\n\u001b[1;32m    801\u001b[0m     raise_if_not(\n\u001b[1;32m    802\u001b[0m         match,\n\u001b[1;32m    803\u001b[0m         \u001b[39m\"\u001b[39m\u001b[39mThe dimensions of the series in the training set \u001b[39m\u001b[39m\"\u001b[39m\n\u001b[1;32m    804\u001b[0m         \u001b[39m\"\u001b[39m\u001b[39mand the validation set do not match.\u001b[39m\u001b[39m\"\u001b[39m,\n\u001b[1;32m    805\u001b[0m     )\n\u001b[0;32m--> 807\u001b[0m train_dataset \u001b[39m=\u001b[39m \u001b[39mself\u001b[39;49m\u001b[39m.\u001b[39;49m_build_train_dataset(\n\u001b[1;32m    808\u001b[0m     target\u001b[39m=\u001b[39;49mseries,\n\u001b[1;32m    809\u001b[0m     past_covariates\u001b[39m=\u001b[39;49mpast_covariates,\n\u001b[1;32m    810\u001b[0m     future_covariates\u001b[39m=\u001b[39;49mfuture_covariates,\n\u001b[1;32m    811\u001b[0m     max_samples_per_ts\u001b[39m=\u001b[39;49mmax_samples_per_ts,\n\u001b[1;32m    812\u001b[0m )\n\u001b[1;32m    814\u001b[0m \u001b[39mif\u001b[39;00m val_series \u001b[39mis\u001b[39;00m \u001b[39mnot\u001b[39;00m \u001b[39mNone\u001b[39;00m:\n\u001b[1;32m    815\u001b[0m     val_dataset \u001b[39m=\u001b[39m \u001b[39mself\u001b[39m\u001b[39m.\u001b[39m_build_train_dataset(\n\u001b[1;32m    816\u001b[0m         target\u001b[39m=\u001b[39mval_series,\n\u001b[1;32m    817\u001b[0m         past_covariates\u001b[39m=\u001b[39mval_past_covariates,\n\u001b[1;32m    818\u001b[0m         future_covariates\u001b[39m=\u001b[39mval_future_covariates,\n\u001b[1;32m    819\u001b[0m         max_samples_per_ts\u001b[39m=\u001b[39mmax_samples_per_ts,\n\u001b[1;32m    820\u001b[0m     )\n",
      "File \u001b[0;32m~/git-portfolio/sales_forecast_walmart/venv/lib/python3.9/site-packages/darts/models/forecasting/torch_forecasting_model.py:2556\u001b[0m, in \u001b[0;36mMixedCovariatesTorchModel._build_train_dataset\u001b[0;34m(self, target, past_covariates, future_covariates, max_samples_per_ts)\u001b[0m\n\u001b[1;32m   2549\u001b[0m \u001b[39mdef\u001b[39;00m \u001b[39m_build_train_dataset\u001b[39m(\n\u001b[1;32m   2550\u001b[0m     \u001b[39mself\u001b[39m,\n\u001b[1;32m   2551\u001b[0m     target: Sequence[TimeSeries],\n\u001b[0;32m   (...)\u001b[0m\n\u001b[1;32m   2554\u001b[0m     max_samples_per_ts: Optional[\u001b[39mint\u001b[39m],\n\u001b[1;32m   2555\u001b[0m ) \u001b[39m-\u001b[39m\u001b[39m>\u001b[39m MixedCovariatesTrainingDataset:\n\u001b[0;32m-> 2556\u001b[0m     \u001b[39mreturn\u001b[39;00m MixedCovariatesSequentialDataset(\n\u001b[1;32m   2557\u001b[0m         target_series\u001b[39m=\u001b[39;49mtarget,\n\u001b[1;32m   2558\u001b[0m         past_covariates\u001b[39m=\u001b[39;49mpast_covariates,\n\u001b[1;32m   2559\u001b[0m         future_covariates\u001b[39m=\u001b[39;49mfuture_covariates,\n\u001b[1;32m   2560\u001b[0m         input_chunk_length\u001b[39m=\u001b[39;49m\u001b[39mself\u001b[39;49m\u001b[39m.\u001b[39;49minput_chunk_length,\n\u001b[1;32m   2561\u001b[0m         output_chunk_length\u001b[39m=\u001b[39;49m\u001b[39mself\u001b[39;49m\u001b[39m.\u001b[39;49moutput_chunk_length,\n\u001b[1;32m   2562\u001b[0m         max_samples_per_ts\u001b[39m=\u001b[39;49mmax_samples_per_ts,\n\u001b[1;32m   2563\u001b[0m         use_static_covariates\u001b[39m=\u001b[39;49m\u001b[39mself\u001b[39;49m\u001b[39m.\u001b[39;49muses_static_covariates,\n\u001b[1;32m   2564\u001b[0m     )\n",
      "File \u001b[0;32m~/git-portfolio/sales_forecast_walmart/venv/lib/python3.9/site-packages/darts/utils/data/sequential_dataset.py:329\u001b[0m, in \u001b[0;36mMixedCovariatesSequentialDataset.__init__\u001b[0;34m(self, target_series, past_covariates, future_covariates, input_chunk_length, output_chunk_length, max_samples_per_ts, use_static_covariates)\u001b[0m\n\u001b[1;32m    326\u001b[0m \u001b[39msuper\u001b[39m()\u001b[39m.\u001b[39m\u001b[39m__init__\u001b[39m()\n\u001b[1;32m    328\u001b[0m \u001b[39m# This dataset is in charge of serving past covariates\u001b[39;00m\n\u001b[0;32m--> 329\u001b[0m \u001b[39mself\u001b[39m\u001b[39m.\u001b[39mds_past \u001b[39m=\u001b[39m GenericShiftedDataset(\n\u001b[1;32m    330\u001b[0m     target_series\u001b[39m=\u001b[39;49mtarget_series,\n\u001b[1;32m    331\u001b[0m     covariates\u001b[39m=\u001b[39;49mpast_covariates,\n\u001b[1;32m    332\u001b[0m     input_chunk_length\u001b[39m=\u001b[39;49minput_chunk_length,\n\u001b[1;32m    333\u001b[0m     output_chunk_length\u001b[39m=\u001b[39;49moutput_chunk_length,\n\u001b[1;32m    334\u001b[0m     shift\u001b[39m=\u001b[39;49minput_chunk_length,\n\u001b[1;32m    335\u001b[0m     shift_covariates\u001b[39m=\u001b[39;49m\u001b[39mFalse\u001b[39;49;00m,\n\u001b[1;32m    336\u001b[0m     max_samples_per_ts\u001b[39m=\u001b[39;49mmax_samples_per_ts,\n\u001b[1;32m    337\u001b[0m     covariate_type\u001b[39m=\u001b[39;49mCovariateType\u001b[39m.\u001b[39;49mPAST,\n\u001b[1;32m    338\u001b[0m     use_static_covariates\u001b[39m=\u001b[39;49muse_static_covariates,\n\u001b[1;32m    339\u001b[0m )\n\u001b[1;32m    341\u001b[0m \u001b[39m# This dataset is in charge of serving historical and future future covariates\u001b[39;00m\n\u001b[1;32m    342\u001b[0m \u001b[39mself\u001b[39m\u001b[39m.\u001b[39mds_dual \u001b[39m=\u001b[39m DualCovariatesSequentialDataset(\n\u001b[1;32m    343\u001b[0m     target_series\u001b[39m=\u001b[39mtarget_series,\n\u001b[1;32m    344\u001b[0m     covariates\u001b[39m=\u001b[39mfuture_covariates,\n\u001b[0;32m   (...)\u001b[0m\n\u001b[1;32m    348\u001b[0m     use_static_covariates\u001b[39m=\u001b[39muse_static_covariates,\n\u001b[1;32m    349\u001b[0m )\n",
      "File \u001b[0;32m~/git-portfolio/sales_forecast_walmart/venv/lib/python3.9/site-packages/darts/utils/data/shifted_dataset.py:548\u001b[0m, in \u001b[0;36mGenericShiftedDataset.__init__\u001b[0;34m(self, target_series, covariates, input_chunk_length, output_chunk_length, shift, shift_covariates, max_samples_per_ts, covariate_type, use_static_covariates)\u001b[0m\n\u001b[1;32m    543\u001b[0m \u001b[39mself\u001b[39m\u001b[39m.\u001b[39mcovariates \u001b[39m=\u001b[39m (\n\u001b[1;32m    544\u001b[0m     [covariates] \u001b[39mif\u001b[39;00m \u001b[39misinstance\u001b[39m(covariates, TimeSeries) \u001b[39melse\u001b[39;00m covariates\n\u001b[1;32m    545\u001b[0m )\n\u001b[1;32m    546\u001b[0m \u001b[39mself\u001b[39m\u001b[39m.\u001b[39mcovariate_type \u001b[39m=\u001b[39m covariate_type\n\u001b[0;32m--> 548\u001b[0m raise_if_not(\n\u001b[1;32m    549\u001b[0m     covariates \u001b[39mis\u001b[39;49;00m \u001b[39mNone\u001b[39;49;00m \u001b[39mor\u001b[39;49;00m \u001b[39mlen\u001b[39;49m(\u001b[39mself\u001b[39;49m\u001b[39m.\u001b[39;49mtarget_series) \u001b[39m==\u001b[39;49m \u001b[39mlen\u001b[39;49m(\u001b[39mself\u001b[39;49m\u001b[39m.\u001b[39;49mcovariates),\n\u001b[1;32m    550\u001b[0m     \u001b[39m\"\u001b[39;49m\u001b[39mThe provided sequence of target series must have the same length as \u001b[39;49m\u001b[39m\"\u001b[39;49m\n\u001b[1;32m    551\u001b[0m     \u001b[39m\"\u001b[39;49m\u001b[39mthe provided sequence of covariate series.\u001b[39;49m\u001b[39m\"\u001b[39;49m,\n\u001b[1;32m    552\u001b[0m )\n\u001b[1;32m    554\u001b[0m \u001b[39mself\u001b[39m\u001b[39m.\u001b[39minput_chunk_length, \u001b[39mself\u001b[39m\u001b[39m.\u001b[39moutput_chunk_length \u001b[39m=\u001b[39m (\n\u001b[1;32m    555\u001b[0m     input_chunk_length,\n\u001b[1;32m    556\u001b[0m     output_chunk_length,\n\u001b[1;32m    557\u001b[0m )\n\u001b[1;32m    558\u001b[0m \u001b[39mself\u001b[39m\u001b[39m.\u001b[39mshift, \u001b[39mself\u001b[39m\u001b[39m.\u001b[39mshift_covariates \u001b[39m=\u001b[39m shift, shift_covariates\n",
      "File \u001b[0;32m~/git-portfolio/sales_forecast_walmart/venv/lib/python3.9/site-packages/darts/logging.py:78\u001b[0m, in \u001b[0;36mraise_if_not\u001b[0;34m(condition, message, logger)\u001b[0m\n\u001b[1;32m     76\u001b[0m \u001b[39mif\u001b[39;00m \u001b[39mnot\u001b[39;00m condition:\n\u001b[1;32m     77\u001b[0m     logger\u001b[39m.\u001b[39merror(\u001b[39m\"\u001b[39m\u001b[39mValueError: \u001b[39m\u001b[39m\"\u001b[39m \u001b[39m+\u001b[39m message)\n\u001b[0;32m---> 78\u001b[0m     \u001b[39mraise\u001b[39;00m \u001b[39mValueError\u001b[39;00m(message)\n",
      "\u001b[0;31mValueError\u001b[0m: The provided sequence of target series must have the same length as the provided sequence of covariate series."
     ]
    }
   ],
   "source": [
    "display(\"Training...\")\n",
    "\n",
    "tide_models_dict = {}\n",
    "for family in tqdm(family_list):\n",
    "\n",
    "    series_list = scaled_series_dict[family]\n",
    "    training_data = [series for series in series_list]\n",
    "\n",
    "    TCN_covariates = future_covariates_dict[family]\n",
    "    train_sliced = [training_data[i].slice_intersect(TCN_covariates[i]) for i in range(0, len(training_data))]\n",
    "\n",
    "    # Initialize a model instance\n",
    "    model = TiDEModel(\n",
    "        **common_model_args,\n",
    "        model_name='sales_forecasting',\n",
    "        use_reversible_instance_norm=False,\n",
    "        use_static_covariates=True,\n",
    "    )\n",
    "\n",
    "    # early stopping needs to get reset for each model\n",
    "    pl_trainer_kwargs[\"callbacks\"] = [\n",
    "        EarlyStopping(\n",
    "            **early_stopping_args,\n",
    "        )\n",
    "    ]\n",
    "\n",
    "    # training\n",
    "    model.fit(\n",
    "        series=train_sliced,\n",
    "        # val_series=val_series[:n_timeseries],\n",
    "        past_covariates=transactions_transformed,\n",
    "        # val_past_covariates=past_cov_series,\n",
    "        future_covariates=TCN_covariates,\n",
    "        # val_future_covariates=past_cov_series,\n",
    "        verbose=False,\n",
    "    )\n",
    "\n",
    "    tide_models_dict[family] = model\n",
    "\n",
    "    break\n"
   ]
  },
  {
   "cell_type": "code",
   "execution_count": null,
   "metadata": {},
   "outputs": [],
   "source": []
  },
  {
   "cell_type": "code",
   "execution_count": null,
   "metadata": {},
   "outputs": [],
   "source": []
  },
  {
   "cell_type": "code",
   "execution_count": null,
   "metadata": {},
   "outputs": [],
   "source": []
  }
 ],
 "metadata": {
  "kernelspec": {
   "display_name": "Python 3",
   "language": "python",
   "name": "python3"
  },
  "language_info": {
   "codemirror_mode": {
    "name": "ipython",
    "version": 3
   },
   "file_extension": ".py",
   "mimetype": "text/x-python",
   "name": "python",
   "nbconvert_exporter": "python",
   "pygments_lexer": "ipython3",
   "version": "3.9.11"
  },
  "orig_nbformat": 4
 },
 "nbformat": 4,
 "nbformat_minor": 2
}
