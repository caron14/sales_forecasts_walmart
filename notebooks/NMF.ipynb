{
 "cells": [
  {
   "cell_type": "code",
   "execution_count": null,
   "metadata": {},
   "outputs": [],
   "source": [
    "from datetime import datetime\n",
    "import os\n",
    "import itertools\n",
    "from pathlib import Path\n",
    "from typing import List, Tuple\n",
    "\n",
    "import matplotlib.pyplot as plt\n",
    "import numpy as np\n",
    "import pandas as pd\n",
    "from sklearn.decomposition import NMF, PCA\n",
    "from sklearn.preprocessing import normalize\n",
    "from sklearn.manifold import TSNE\n",
    "from tqdm import tqdm\n",
    "\n",
    "%matplotlib inline"
   ]
  },
  {
   "cell_type": "code",
   "execution_count": null,
   "metadata": {},
   "outputs": [],
   "source": [
    "class Config:\n",
    "    seed = 2023\n",
    "    timestamp = datetime.now().strftime(\"%Y%m%d%H%M%S\")\n",
    "    curr_dirpath = Path(os.getcwd())\n",
    "    repo_dirpath = curr_dirpath / \"../\"\n",
    "    dataset_dirpath = repo_dirpath / \"input\"\n",
    "    ts_identifier_col = \"store_item\"\n",
    "    ts_col = \"date\"\n",
    "    target_col = \"sales\"\n",
    "\n",
    "\n",
    "config = Config()"
   ]
  },
  {
   "cell_type": "code",
   "execution_count": null,
   "metadata": {},
   "outputs": [],
   "source": [
    "\"\"\"\n",
    "id - the index of the row\n",
    "date - the current date\n",
    "store_nbr - the store\n",
    "family - the product family\n",
    "sales - number of sales in this family\n",
    "onpromotion - the number of products on promotion in this family\n",
    "\"\"\"\n",
    "df = pd.read_csv(config.dataset_dirpath / \"train.csv\")\n",
    "\n",
    "print(df.shape)\n",
    "display(df.head(2))\n",
    "display(df.tail(2))"
   ]
  },
  {
   "cell_type": "code",
   "execution_count": null,
   "metadata": {},
   "outputs": [],
   "source": [
    "\"\"\"\n",
    "Aggregate sales\n",
    "\"\"\"\n",
    "# To aggregate sales based on 'date', 'store_nbr', and 'family' and also convert the 'date' to weekly,\n",
    "# we'll first convert the 'date' column to a datetime object, then resample it to a weekly frequency.\n",
    "\n",
    "# Convert 'date' to datetime\n",
    "df[\"date\"] = pd.to_datetime(df[\"date\"])\n",
    "\n",
    "# Set the 'date' as the index\n",
    "df.set_index(\"date\", inplace=True)\n",
    "\n",
    "# Resample the data to weekly frequency, grouping by 'store_nbr' and 'family', and summing up the 'sales'\n",
    "weekly_sales = (\n",
    "    df.groupby([\"store_nbr\", \"family\"]).resample(\"W\").sales.sum().reset_index()\n",
    ")\n",
    "# Create year and month columns\n",
    "weekly_sales[\"year\"] = weekly_sales[\"date\"].dt.year\n",
    "weekly_sales[\"month\"] = weekly_sales[\"date\"].dt.month\n",
    "\n",
    "# time series identifier\n",
    "weekly_sales[\"ts_id\"] = (\n",
    "    weekly_sales[\"store_nbr\"].astype(str)\n",
    "    + \"_\"\n",
    "    + weekly_sales[\"family\"]\n",
    "    + \"_\"\n",
    "    + weekly_sales[\"year\"].astype(str)\n",
    ")\n",
    "\n",
    "weekly_sales.head()"
   ]
  },
  {
   "cell_type": "code",
   "execution_count": null,
   "metadata": {},
   "outputs": [],
   "source": [
    "df_dict = {}\n",
    "for ts_id in weekly_sales[\"ts_id\"].unique():\n",
    "    df_dict[ts_id] = weekly_sales.loc[weekly_sales[\"ts_id\"] == ts_id, :]"
   ]
  },
  {
   "cell_type": "code",
   "execution_count": null,
   "metadata": {},
   "outputs": [],
   "source": [
    "for ts_id in df_dict:\n",
    "    df_dict[ts_id].plot(x=\"date\", y=\"sales\", title=ts_id)\n",
    "    break"
   ]
  },
  {
   "cell_type": "code",
   "execution_count": null,
   "metadata": {},
   "outputs": [],
   "source": [
    "deleted_ts_count = 0\n",
    "store_nbr_list, family_list = [], []\n",
    "for ts_id in list(df_dict.keys()):\n",
    "    if len(df_dict[ts_id]) < 52:\n",
    "        del df_dict[ts_id]\n",
    "        deleted_ts_count += 1\n",
    "    else:\n",
    "        store_nbr_list.append(ts_id.split(\"_\")[0])\n",
    "        family_list.append(ts_id.split(\"_\")[1])\n",
    "store_nbr_list = np.array(store_nbr_list)\n",
    "family_list = np.array(family_list)\n",
    "print(f\"Deleted {deleted_ts_count} time series\")"
   ]
  },
  {
   "cell_type": "code",
   "execution_count": null,
   "metadata": {},
   "outputs": [],
   "source": [
    "for i, ts_id in enumerate(df_dict.keys()):\n",
    "    if i == 0:\n",
    "        sales_array = df_dict[ts_id]['sales'].to_numpy()\n",
    "    else:\n",
    "        sales_array = np.vstack([sales_array, df_dict[ts_id]['sales'].to_numpy()])\n",
    "print(sales_array.shape)"
   ]
  },
  {
   "cell_type": "code",
   "execution_count": null,
   "metadata": {},
   "outputs": [],
   "source": [
    "\"\"\"\n",
    "Normalize sales\n",
    "\"\"\"\n",
    "normed_sales_array = normalize(sales_array, axis=1)"
   ]
  },
  {
   "cell_type": "code",
   "execution_count": null,
   "metadata": {},
   "outputs": [],
   "source": [
    "plt.figure(figsize=(8, 2))\n",
    "for i in range(5):\n",
    "    plt.plot(normed_sales_array[i, :])\n",
    "plt.show()"
   ]
  },
  {
   "cell_type": "code",
   "execution_count": null,
   "metadata": {},
   "outputs": [],
   "source": [
    "\"\"\"\n",
    "NMF/PCA\n",
    "\"\"\"\n",
    "method = 'NMF'  # 'PCA', 'NMF'\n",
    "num_components = 30\n",
    "if method == 'PCA':\n",
    "    model = PCA(n_components=num_components)\n",
    "else:\n",
    "    model = NMF(n_components=num_components, init=\"random\", random_state=0)\n",
    "nmf_coef_array = model.fit_transform(normed_sales_array)\n",
    "print(model.components_.shape)"
   ]
  },
  {
   "cell_type": "code",
   "execution_count": null,
   "metadata": {},
   "outputs": [],
   "source": [
    "plt.figure(figsize=(8, 2))\n",
    "for i in range(num_components):\n",
    "    plt.plot(model.components_[i, :], label=f\"comp {i}\")\n",
    "plt.legend()\n",
    "plt.show()"
   ]
  },
  {
   "cell_type": "code",
   "execution_count": null,
   "metadata": {},
   "outputs": [],
   "source": [
    "model.components_.shape"
   ]
  },
  {
   "cell_type": "code",
   "execution_count": null,
   "metadata": {},
   "outputs": [],
   "source": [
    "for i, ts_id in enumerate(df_dict.keys()):\n",
    "    plt.figure(figsize=(8, 2))\n",
    "    sales = np.zeros(normed_sales_array.shape[1])\n",
    "    for j in range(num_components):\n",
    "        sales += nmf_coef_array[i, j] * model.components_[j, :]\n",
    "    plt.plot(sales, label=\"reconst\", color=\"r\")\n",
    "    plt.plot(normed_sales_array[i], label=\"orig\", color=\"b\")\n",
    "    plt.title(ts_id)\n",
    "    plt.legend()\n",
    "    plt.show()\n",
    "    if i > 5:\n",
    "        break"
   ]
  },
  {
   "cell_type": "code",
   "execution_count": null,
   "metadata": {},
   "outputs": [],
   "source": [
    "\"\"\"\n",
    "t-SNE\n",
    "\"\"\"\n",
    "tsne = TSNE(n_components=2, verbose=1, perplexity=15, n_iter=300)\n",
    "tsne_results = tsne.fit_transform(nmf_coef_array)\n",
    "# tsne_results = tsne.fit_transform(normed_sales_array)\n",
    "# tsne_results = tsne.fit_transform(np.diff(normed_sales_array, axis=1))\n",
    "\n",
    "plt.figure(figsize=(6, 6))\n",
    "for family in set(family_list):\n",
    "    plt.scatter(\n",
    "        tsne_results[family_list == family, 0],\n",
    "        tsne_results[family_list == family, 1],\n",
    "        alpha=0.3,\n",
    "        label=family,\n",
    "    )\n",
    "plt.title(\"t-SNE\")\n",
    "plt.xlabel(\"comp 1\")\n",
    "plt.ylabel(\"comp 2\")\n",
    "# plt.legend()\n",
    "plt.show()"
   ]
  },
  {
   "cell_type": "markdown",
   "metadata": {},
   "source": [
    "FFT"
   ]
  },
  {
   "cell_type": "code",
   "execution_count": null,
   "metadata": {},
   "outputs": [],
   "source": [
    "plt.figure(figsize=(8, 2))\n",
    "for i in range(5):\n",
    "    plt.plot(normed_sales_array[i, :])\n",
    "plt.show()"
   ]
  },
  {
   "cell_type": "code",
   "execution_count": null,
   "metadata": {},
   "outputs": [],
   "source": [
    "plt.figure(figsize=(8, 2))\n",
    "for i in range(5):\n",
    "    plt.plot(np.diff(normed_sales_array[i, :], axis=0))\n",
    "plt.show()"
   ]
  },
  {
   "cell_type": "code",
   "execution_count": null,
   "metadata": {},
   "outputs": [],
   "source": [
    "from scipy.fft import fft\n",
    "\n",
    "diff_normed_sales_array = np.diff(normed_sales_array, axis=1)\n",
    "fft_sales = np.abs(\n",
    "    fft(diff_normed_sales_array, n=diff_normed_sales_array.shape[1], axis=1)\n",
    ")\n",
    "\n",
    "for i in range(10):\n",
    "    plt.plot(fft_sales[i, :])\n",
    "plt.show()"
   ]
  },
  {
   "cell_type": "code",
   "execution_count": null,
   "metadata": {},
   "outputs": [],
   "source": [
    "half_fft_sales = fft_sales[:, :fft_sales.shape[1] // 2]\n",
    "print(f\"{fft_sales.shape} --> {half_fft_sales.shape}\")"
   ]
  },
  {
   "cell_type": "code",
   "execution_count": null,
   "metadata": {},
   "outputs": [],
   "source": [
    "\"\"\"\n",
    "NMF/PCA\n",
    "\"\"\"\n",
    "method = \"NMF\"  # 'PCA', 'NMF'\n",
    "num_components = 15\n",
    "if method == \"PCA\":\n",
    "    model = PCA(n_components=num_components)\n",
    "else:\n",
    "    model = NMF(n_components=num_components, init=\"random\", random_state=0)\n",
    "nmf_coef_array = model.fit_transform(half_fft_sales)\n",
    "print(model.components_.shape)\n",
    "\n",
    "plt.figure(figsize=(8, 2))\n",
    "for i in range(num_components):\n",
    "    plt.plot(model.components_[i, :], label=f\"comp {i}\")\n",
    "plt.legend()\n",
    "plt.show()"
   ]
  },
  {
   "cell_type": "code",
   "execution_count": null,
   "metadata": {},
   "outputs": [],
   "source": [
    "for i, ts_id in enumerate(df_dict.keys()):\n",
    "    plt.figure(figsize=(8, 2))\n",
    "    # sales = np.zeros(fft_sales.shape[1])\n",
    "    sales = np.zeros(half_fft_sales.shape[1])\n",
    "    for j in range(num_components):\n",
    "        sales += nmf_coef_array[i, j] * model.components_[j, :]\n",
    "    plt.plot(sales, label=\"reconst\", color=\"r\")\n",
    "    # plt.plot(fft_sales[i], label=\"orig\", color=\"b\")\n",
    "    plt.plot(half_fft_sales[i], label=\"orig\", color=\"b\")\n",
    "    plt.title(ts_id)\n",
    "    plt.legend()\n",
    "    plt.show()\n",
    "    if i > 5:\n",
    "        break"
   ]
  },
  {
   "cell_type": "code",
   "execution_count": null,
   "metadata": {},
   "outputs": [],
   "source": [
    "\"\"\"\n",
    "t-SNE\n",
    "\"\"\"\n",
    "tsne = TSNE(n_components=2, verbose=1, perplexity=20, n_iter=300)\n",
    "# tsne_results = tsne.fit_transform(nmf_coef_array)\n",
    "tsne_results = tsne.fit_transform(fft_sales)\n",
    "\n",
    "plt.figure(figsize=(6, 6))\n",
    "for family in set(family_list):\n",
    "    plt.scatter(\n",
    "        tsne_results[family_list == family, 0],\n",
    "        tsne_results[family_list == family, 1],\n",
    "        alpha=0.3,\n",
    "        label=family,\n",
    "    )\n",
    "plt.title(\"t-SNE\")\n",
    "plt.xlabel(\"comp 1\")\n",
    "plt.ylabel(\"comp 2\")\n",
    "# plt.legend()\n",
    "plt.show()"
   ]
  },
  {
   "cell_type": "code",
   "execution_count": null,
   "metadata": {},
   "outputs": [],
   "source": []
  }
 ],
 "metadata": {
  "kernelspec": {
   "display_name": "venv",
   "language": "python",
   "name": "python3"
  },
  "language_info": {
   "codemirror_mode": {
    "name": "ipython",
    "version": 3
   },
   "file_extension": ".py",
   "mimetype": "text/x-python",
   "name": "python",
   "nbconvert_exporter": "python",
   "pygments_lexer": "ipython3",
   "version": "3.9.11"
  }
 },
 "nbformat": 4,
 "nbformat_minor": 2
}
